{
 "cells": [
  {
   "cell_type": "markdown",
   "id": "49764289",
   "metadata": {},
   "source": [
    "# COMSOC\n",
    "\n",
    "Welcome! This notebook will guide you through some of the functionalities of the `COMSOC` package."
   ]
  },
  {
   "cell_type": "markdown",
   "id": "2f7f039a",
   "metadata": {},
   "source": [
    "## Scenarios\n",
    "\n",
    "To begin, let us import a _theory_. A theory is a general framework modelling a family of collective decisions. For example, Voting Theory, Participatory Budgeting or Multiwinner Voting. Let us import the module which implements the theory of anonymous voting."
   ]
  },
  {
   "cell_type": "code",
   "execution_count": 1,
   "id": "470e8be9",
   "metadata": {},
   "outputs": [],
   "source": [
    "import COMSOC.anonymous as theory"
   ]
  },
  {
   "cell_type": "markdown",
   "id": "31b07f41",
   "metadata": {},
   "source": [
    "Now, we can focus on a specific instance, or _scenario_, of anonymous voting. Suppose that we want to model all situations where (up to) two anonymous voters need to choose between three alternatives, called `a`, `b` and `c`. To define this scenario, we can do the following:"
   ]
  },
  {
   "cell_type": "code",
   "execution_count": 2,
   "id": "9930cc16",
   "metadata": {
    "scrolled": true
   },
   "outputs": [
    {
     "name": "stdout",
     "output_type": "stream",
     "text": [
      "Anonymous voting scenario, with 2 voters and alternatives {a, b, c}.\n"
     ]
    }
   ],
   "source": [
    "nVoters = 2\n",
    "alternatives = {'a', 'b', 'c'}\n",
    "\n",
    "scenario = theory.Scenario(nVoters, alternatives)\n",
    "print(scenario)"
   ]
  },
  {
   "cell_type": "markdown",
   "id": "cf0e87e1",
   "metadata": {},
   "source": [
    "Next, we can focus on a specific _preference profile_, and compute the outcome selected by lnwon voting rules; the Borda and Plurality rules for example."
   ]
  },
  {
   "cell_type": "code",
   "execution_count": 3,
   "id": "69327a81",
   "metadata": {
    "scrolled": true
   },
   "outputs": [
    {
     "name": "stdout",
     "output_type": "stream",
     "text": [
      "#1:a>b>c, #1:b>a>c\n",
      "Borda( #1:a>b>c, #1:b>a>c ) ==> {a, b}\n",
      "Plurality( #1:a>b>c, #1:b>a>c ) ==> {a, b}\n"
     ]
    }
   ],
   "source": [
    "profile = scenario.get_profile('a>b>c,b>a>c')\n",
    "\n",
    "print(profile)\n",
    "\n",
    "borda_rule = theory.rules.Borda(scenario)\n",
    "plurality_rule = theory.rules.Plurality(scenario)\n",
    "\n",
    "print(f'Borda( {profile} ) ==> {borda_rule(profile)}')\n",
    "print(f'Plurality( {profile} ) ==> {plurality_rule(profile)}')"
   ]
  },
  {
   "cell_type": "markdown",
   "id": "0193efb6",
   "metadata": {},
   "source": [
    "Alternatively, we can loop over all possible profiles in this scenario, and select only those with a Condorcet winner. Here, we print the first 5."
   ]
  },
  {
   "cell_type": "code",
   "execution_count": 4,
   "id": "9744a0e9",
   "metadata": {},
   "outputs": [
    {
     "name": "stdout",
     "output_type": "stream",
     "text": [
      "Profile #1:c>a>b, #1:c>b>a has a Condorcet winner: c.\n",
      "Profile #2:a>c>b has a Condorcet winner: a.\n",
      "Profile #1:a>b>c, #1:a>c>b has a Condorcet winner: a.\n",
      "Profile #2:a>b>c has a Condorcet winner: a.\n",
      "Profile #1:a>b>c has a Condorcet winner: a.\n"
     ]
    }
   ],
   "source": [
    "SetOfCW = {profile for profile in scenario.profiles if profile.hasCondorcetWinner()}\n",
    "\n",
    "for profile in list(SetOfCW)[:5]:\n",
    "    print(f\"Profile {profile} has a Condorcet winner: {profile.condorcetWinner()}.\")"
   ]
  },
  {
   "cell_type": "markdown",
   "id": "dd7ec9d5",
   "metadata": {},
   "source": [
    "Or all profiles with exactly one voter:"
   ]
  },
  {
   "cell_type": "code",
   "execution_count": 5,
   "id": "dcf61df8",
   "metadata": {
    "scrolled": true
   },
   "outputs": [
    {
     "name": "stdout",
     "output_type": "stream",
     "text": [
      "#1:a>b>c\n",
      "#1:b>c>a\n",
      "#1:c>a>b\n",
      "#1:c>b>a\n",
      "#1:a>c>b\n",
      "#1:b>a>c\n"
     ]
    }
   ],
   "source": [
    "for profile in scenario.profilesOfSize(1):\n",
    "    print(profile)"
   ]
  },
  {
   "cell_type": "markdown",
   "id": "b7eb976a",
   "metadata": {},
   "source": [
    "## Reasoning"
   ]
  },
  {
   "cell_type": "markdown",
   "id": "925fb19a",
   "metadata": {},
   "source": [
    "Now, we will demonstrate how to perform automated reasoning tasks using this package. The module `COMSOC.problems` allows to perform various reasoning tasks regarding voting rules. Each of them offers a `.solve()` method, which accepts a `strategy` named argument."
   ]
  },
  {
   "cell_type": "markdown",
   "id": "a358c63d",
   "metadata": {},
   "source": [
    "A first task one can perform is to check the satisfiability of a set of axioms. Given a corpus of axioms, we are able to search for and obtain voting rules satisfying them.\n",
    "First of all, let us create a corpus of axioms."
   ]
  },
  {
   "cell_type": "code",
   "execution_count": 6,
   "id": "059e8ec4",
   "metadata": {},
   "outputs": [],
   "source": [
    "corpus = {\n",
    "    theory.axioms.Faithfulness(scenario),\n",
    "    theory.axioms.Reinforcement(scenario),\n",
    "    theory.axioms.Cancellation(scenario),\n",
    "    theory.axioms.Pareto(scenario),\n",
    "    theory.axioms.Neutrality(scenario),\n",
    "}"
   ]
  },
  {
   "cell_type": "markdown",
   "id": "475ae547",
   "metadata": {},
   "source": [
    "Is this set of axioms satisfiable? To check this, we define a new instance of the `CheckAxioms` problem, and solve it using a SAT solver."
   ]
  },
  {
   "cell_type": "code",
   "execution_count": 7,
   "id": "ff1aaac9",
   "metadata": {},
   "outputs": [
    {
     "data": {
      "text/plain": [
       "True"
      ]
     },
     "execution_count": 7,
     "metadata": {},
     "output_type": "execute_result"
    }
   ],
   "source": [
    "from COMSOC.problems import CheckAxioms\n",
    "\n",
    "problem = CheckAxioms(corpus)\n",
    "problem.solve(strategy = \"SAT\")"
   ]
  },
  {
   "cell_type": "markdown",
   "id": "08c0b037",
   "metadata": {},
   "source": [
    "Next, we can check whether some already know rules satisfy our set of axioms. To this end, the problem `CheckRule` can be used."
   ]
  },
  {
   "cell_type": "code",
   "execution_count": 8,
   "id": "d70d6060",
   "metadata": {},
   "outputs": [
    {
     "name": "stdout",
     "output_type": "stream",
     "text": [
      "True\n",
      "False\n"
     ]
    }
   ],
   "source": [
    "from COMSOC.problems import CheckRule\n",
    "\n",
    "problem = CheckRule(corpus, borda_rule)\n",
    "print(problem.solve(strategy = \"SAT\"))\n",
    "\n",
    "problem = CheckRule(corpus, plurality_rule)\n",
    "print(problem.solve(strategy = \"SAT\"))"
   ]
  },
  {
   "cell_type": "markdown",
   "id": "8ebccfc0",
   "metadata": {},
   "source": [
    "As we can see, the Borda rule satisfies our corpus. However, Plurality does not (as it violates Cancellation). Let us try again without this axiom."
   ]
  },
  {
   "cell_type": "code",
   "execution_count": 9,
   "id": "707e54d9",
   "metadata": {},
   "outputs": [
    {
     "data": {
      "text/plain": [
       "True"
      ]
     },
     "execution_count": 9,
     "metadata": {},
     "output_type": "execute_result"
    }
   ],
   "source": [
    "corpus_small = {\n",
    "    theory.axioms.Faithfulness(scenario),\n",
    "    theory.axioms.Reinforcement(scenario),\n",
    "    theory.axioms.Pareto(scenario),\n",
    "    theory.axioms.Neutrality(scenario),\n",
    "}\n",
    "\n",
    "problem = CheckRule(corpus_small, plurality_rule)\n",
    "problem.solve(strategy = \"SAT\")"
   ]
  },
  {
   "cell_type": "markdown",
   "id": "1dea9a33",
   "metadata": {},
   "source": [
    "Finally, we can automatically generate a rule that satisfies our corpus. Here, the problem `FindRule` is used."
   ]
  },
  {
   "cell_type": "code",
   "execution_count": 10,
   "id": "f745d137",
   "metadata": {},
   "outputs": [
    {
     "name": "stdout",
     "output_type": "stream",
     "text": [
      "#############################\n",
      "F(#1:a>b>c) ---> {'a'}\n",
      "F(#1:b>c>a) ---> {'b'}\n",
      "F(#1:c>a>b) ---> {'c'}\n",
      "F(#1:c>b>a) ---> {'c'}\n",
      "F(#1:a>c>b) ---> {'a'}\n",
      "F(#1:b>a>c) ---> {'b'}\n",
      "F(#1:a>c>b, #1:c>a>b) ---> {'c'}\n",
      "F(#1:b>a>c, #1:b>c>a) ---> {'b'}\n",
      "F(#2:b>c>a) ---> {'b'}\n",
      "F(#1:b>c>a, #1:c>b>a) ---> {'b'}\n",
      "F(#1:c>a>b, #1:c>b>a) ---> {'c'}\n",
      "F(#1:a>b>c, #1:b>c>a) ---> {'b'}\n",
      "F(#1:a>b>c, #1:b>a>c) ---> {'a'}\n",
      "F(#1:a>c>b, #1:b>c>a) ---> {'b', 'a', 'c'}\n",
      "F(#1:a>b>c, #1:c>a>b) ---> {'a'}\n",
      "F(#2:a>c>b) ---> {'a'}\n",
      "F(#1:a>c>b, #1:c>b>a) ---> {'c'}\n",
      "F(#2:c>b>a) ---> {'c'}\n",
      "F(#1:a>c>b, #1:b>a>c) ---> {'a'}\n",
      "F(#2:b>a>c) ---> {'b'}\n",
      "F(#1:b>a>c, #1:c>b>a) ---> {'b'}\n",
      "F(#1:a>b>c, #1:a>c>b) ---> {'a'}\n",
      "F(#1:a>b>c, #1:c>b>a) ---> {'b', 'a', 'c'}\n",
      "F(#2:a>b>c) ---> {'a'}\n",
      "F(#1:b>c>a, #1:c>a>b) ---> {'c'}\n",
      "F(#2:c>a>b) ---> {'c'}\n",
      "F(#1:b>a>c, #1:c>a>b) ---> {'b', 'a', 'c'}\n",
      "#############################\n"
     ]
    }
   ],
   "source": [
    "from COMSOC.problems import FindRule\n",
    "\n",
    "problem = FindRule(corpus)\n",
    "rule = problem.solve(strategy = \"SAT\")\n",
    "\n",
    "print(rule)"
   ]
  },
  {
   "cell_type": "markdown",
   "id": "5857b0a3",
   "metadata": {},
   "source": [
    "Of course, we'd expect this rule to satisfy the smaller corpus of axioms as well:"
   ]
  },
  {
   "cell_type": "code",
   "execution_count": 11,
   "id": "5ea30188",
   "metadata": {},
   "outputs": [
    {
     "data": {
      "text/plain": [
       "True"
      ]
     },
     "execution_count": 11,
     "metadata": {},
     "output_type": "execute_result"
    }
   ],
   "source": [
    "CheckRule(corpus_small, rule).solve(strategy = \"SAT\")"
   ]
  },
  {
   "cell_type": "markdown",
   "id": "4fc9e180",
   "metadata": {},
   "source": [
    "## Automated Justification"
   ]
  },
  {
   "cell_type": "markdown",
   "id": "b098364e",
   "metadata": {},
   "source": [
    "The package can also be used to solve the problem of the automated justification of voting outcomes. Consider the following profile, outcome and axioms."
   ]
  },
  {
   "cell_type": "code",
   "execution_count": 12,
   "id": "185c2c27",
   "metadata": {
    "scrolled": true
   },
   "outputs": [],
   "source": [
    "nVoters = 2\n",
    "alternatives = {\"a\", \"b\", \"c\"}\n",
    "\n",
    "scenario = theory.Scenario(nVoters, alternatives)\n",
    "\n",
    "profile = scenario.get_profile(\"a>b>c,b>a>c\")\n",
    "outcome = scenario.get_outcome(\"a,b\")\n",
    "corpus = {\n",
    "    theory.axioms.Faithfulness(scenario),\n",
    "    theory.axioms.Reinforcement(scenario),\n",
    "    theory.axioms.Cancellation(scenario),\n",
    "    theory.axioms.Pareto(scenario),\n",
    "    theory.axioms.Neutrality(scenario),\n",
    "    theory.axioms.PositiveResponsiveness(scenario)\n",
    "}"
   ]
  },
  {
   "cell_type": "markdown",
   "id": "2a421c13",
   "metadata": {},
   "source": [
    "We can define the problem as follows:"
   ]
  },
  {
   "cell_type": "code",
   "execution_count": 13,
   "id": "7d4bdef7",
   "metadata": {},
   "outputs": [],
   "source": [
    "from COMSOC.problems import JustificationProblem\n",
    "\n",
    "problem = JustificationProblem(profile, outcome, corpus)"
   ]
  },
  {
   "cell_type": "markdown",
   "id": "0bbdf868",
   "metadata": {},
   "source": [
    "To solve it, we can again call the `.solve()` method, which this time returns an iterator over all justifications. As additional parameters, we impose a maximum depth in the search of 3, we activate the heuristics , and we set the maximum number of justifications retrieved to 5. Among these, we return the smallest justification (in terms of number of instances). Furthermore, we add the heuristic axiom of `Symmetry`."
   ]
  },
  {
   "cell_type": "code",
   "execution_count": 14,
   "id": "6cefbeac",
   "metadata": {},
   "outputs": [
    {
     "name": "stdout",
     "output_type": "stream",
     "text": [
      "########\n",
      "Given profile: #1:a>b>c, #1:b>a>c\n",
      "Target outcome: {a, b}\n",
      "Corpus: {Reinforcement, Neutrality, AtLeastOne, PositiveResponsiveness, Cancellation, Pareto, Faithfulness}\n",
      "\n",
      "NORMATIVE BASIS:\n",
      "\t{Neutrality, AtLeastOne, Pareto}\n",
      "EXPLANATION:\n",
      "\t(ATLEASTONE) In profile (#1:a>b>c, #1:b>a>c) at least one alternative must win.\n",
      "\t(NEUTRALITY) Profiles (#1:a>b>c, #1:b>a>c) and (#1:a>b>c, #1:b>a>c) are identical up to a renaming of the alternatives: {a~b, b~a, c~c}. Hence, the outcomes must be equal under the same renaming.\n",
      "\t(PARETO) In profile (#1:a>b>c, #1:b>a>c) alternative c is Pareto-dominated. Hence, it cannot win.\n",
      "########\n"
     ]
    }
   ],
   "source": [
    "from COMSOC.just import Symmetry, QuasiTiedWinner, QuasiTiedLoser\n",
    "\n",
    "shortest = None\n",
    "# Note: ignoring nontriviality as I still have to implement the relevant code for Positive Responsiveness;\n",
    "# will be added soon.\n",
    "for justification in problem.solve(strategy = \"SAT\", depth = 0, heuristics = True, maximum = 5, \\\n",
    "                                  derivedAxioms = {Symmetry(scenario), QuasiTiedWinner(scenario),\\\n",
    "                                                  QuasiTiedLoser(scenario)}, ignore_nontriviality = True):\n",
    "    \n",
    "    if shortest is None or len(justification) < len(shortest):\n",
    "        shortest = justification\n",
    "        \n",
    "print(shortest)"
   ]
  },
  {
   "cell_type": "code",
   "execution_count": null,
   "id": "7c5ae193",
   "metadata": {},
   "outputs": [],
   "source": []
  }
 ],
 "metadata": {
  "kernelspec": {
   "display_name": "Python 3",
   "language": "python",
   "name": "python3"
  },
  "language_info": {
   "codemirror_mode": {
    "name": "ipython",
    "version": 3
   },
   "file_extension": ".py",
   "mimetype": "text/x-python",
   "name": "python",
   "nbconvert_exporter": "python",
   "pygments_lexer": "ipython3",
   "version": "3.7.4"
  }
 },
 "nbformat": 4,
 "nbformat_minor": 5
}
