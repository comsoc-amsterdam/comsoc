{
 "cells": [
  {
   "cell_type": "markdown",
   "id": "fff695f9",
   "metadata": {},
   "source": [
    "# COMSOC\n",
    "\n",
    "Welcome! This notebook will guide you through some of the functionalities of the `COMSOC` package."
   ]
  },
  {
   "cell_type": "markdown",
   "id": "35826c04",
   "metadata": {},
   "source": [
    "## Scenarios\n",
    "\n",
    "To begin, let us import a _theory_. A theory is a general framework modelling a family of collective decisions. For example, Voting Theory, Participatory Budgeting or Multiwinner Voting. Let us import the module implementing the theory of anonymous voting."
   ]
  },
  {
   "cell_type": "code",
   "execution_count": 1,
   "id": "a99459fb",
   "metadata": {},
   "outputs": [],
   "source": [
    "import COMSOC.anonymous as theory"
   ]
  },
  {
   "cell_type": "markdown",
   "id": "baa8824f",
   "metadata": {},
   "source": [
    "Now we can focus on a specific instance, or _scenario_, of anonymous voting. Suppose that we want to model all situations where (up to) two anonymous voters need to choose between three alternatives, called `a`, `b` and `c`. To define this scenario, we can do the following:"
   ]
  },
  {
   "cell_type": "code",
   "execution_count": 2,
   "id": "b607fb17",
   "metadata": {
    "scrolled": true
   },
   "outputs": [
    {
     "name": "stdout",
     "output_type": "stream",
     "text": [
      "Anonymous voting scenario, with 2 voters and alternatives {a, b, c}.\n"
     ]
    }
   ],
   "source": [
    "nVoters = 2\n",
    "alternatives = {'a', 'b', 'c'}\n",
    "\n",
    "scenario = theory.Scenario(nVoters, alternatives)\n",
    "print(scenario)"
   ]
  },
  {
   "cell_type": "markdown",
   "id": "2c9fd15b",
   "metadata": {},
   "source": [
    "Next, we can focus on a specific _preference profile_, and compute the outcome selected by some common voting rules; the Borda and Plurality rules for example."
   ]
  },
  {
   "cell_type": "code",
   "execution_count": 3,
   "id": "362171a6",
   "metadata": {
    "scrolled": true
   },
   "outputs": [
    {
     "name": "stdout",
     "output_type": "stream",
     "text": [
      "#1:a>b>c, #1:b>a>c\n",
      "Borda( #1:a>b>c, #1:b>a>c ) ==> {a, b}\n",
      "Plurality( #1:a>b>c, #1:b>a>c ) ==> {a, b}\n"
     ]
    }
   ],
   "source": [
    "profile = scenario.get_profile('a>b>c,b>a>c')\n",
    "\n",
    "print(profile)\n",
    "\n",
    "borda_rule = theory.rules.Borda(scenario)\n",
    "plurality_rule = theory.rules.Plurality(scenario)\n",
    "\n",
    "print(f'Borda( {profile} ) ==> {borda_rule(profile)}')\n",
    "print(f'Plurality( {profile} ) ==> {plurality_rule(profile)}')"
   ]
  },
  {
   "cell_type": "markdown",
   "id": "db3cbb74",
   "metadata": {},
   "source": [
    "Another thing we can do is to loop over all possible profiles in this scenario, and select those with a Condorcet winner. Here, we print the first 5 such cases found."
   ]
  },
  {
   "cell_type": "code",
   "execution_count": 4,
   "id": "3ed0655f",
   "metadata": {},
   "outputs": [
    {
     "name": "stdout",
     "output_type": "stream",
     "text": [
      "Profile #1:c>a>b, #1:c>b>a has a Condorcet winner: c.\n",
      "Profile #1:c>b>a has a Condorcet winner: c.\n",
      "Profile #1:b>c>a has a Condorcet winner: b.\n",
      "Profile #1:b>a>c has a Condorcet winner: b.\n",
      "Profile #2:b>c>a has a Condorcet winner: b.\n"
     ]
    }
   ],
   "source": [
    "SetOfCW = {profile for profile in scenario.profiles if profile.hasCondorcetWinner()}\n",
    "\n",
    "for profile in list(SetOfCW)[:5]:\n",
    "    print(f\"Profile {profile} has a Condorcet winner: {profile.condorcetWinner()}.\")"
   ]
  },
  {
   "cell_type": "markdown",
   "id": "684d621a",
   "metadata": {},
   "source": [
    "Indeed, as we do not allow for more than 2 voters, only unanimous profiles such as those listed above can have a Condorcet winner."
   ]
  },
  {
   "cell_type": "markdown",
   "id": "cc89fada",
   "metadata": {},
   "source": [
    "Yet another thing we can do is to print all profiles with exactly one voter:"
   ]
  },
  {
   "cell_type": "code",
   "execution_count": 5,
   "id": "1bcb10b2",
   "metadata": {
    "scrolled": true
   },
   "outputs": [
    {
     "name": "stdout",
     "output_type": "stream",
     "text": [
      "#1:c>b>a\n",
      "#1:b>c>a\n",
      "#1:b>a>c\n",
      "#1:c>a>b\n",
      "#1:a>b>c\n",
      "#1:a>c>b\n"
     ]
    }
   ],
   "source": [
    "for profile in scenario.profilesOfSize(1):\n",
    "    print(profile)"
   ]
  },
  {
   "cell_type": "markdown",
   "id": "d57e82bb",
   "metadata": {},
   "source": [
    "## Reasoning"
   ]
  },
  {
   "cell_type": "markdown",
   "id": "8d57415e",
   "metadata": {},
   "source": [
    "Next, we are going to demonstrate how to perform automated reasoning tasks using this package. The module `COMSOC.problems` allows to perform various reasoning tasks regarding voting rules. Each of them offers a `.solve()` method, accepting parameters that control the strategy to be used."
   ]
  },
  {
   "cell_type": "markdown",
   "id": "52ca9b79",
   "metadata": {},
   "source": [
    "A first task one can perform is to check the satisfiability of a set of axioms. Given a corpus of axioms, we are able to search for and obtain voting rules satisfying them.\n",
    "First of all, let us create a corpus of axioms."
   ]
  },
  {
   "cell_type": "code",
   "execution_count": 6,
   "id": "16c35ff2",
   "metadata": {},
   "outputs": [],
   "source": [
    "corpus = {\n",
    "    theory.axioms.Faithfulness(scenario),\n",
    "    theory.axioms.Reinforcement(scenario),\n",
    "    theory.axioms.Cancellation(scenario),\n",
    "    theory.axioms.Pareto(scenario),\n",
    "    theory.axioms.Neutrality(scenario),\n",
    "}"
   ]
  },
  {
   "cell_type": "markdown",
   "id": "d5d6ad3a",
   "metadata": {},
   "source": [
    "Is this set of axioms satisfiable? To check this, we define a new instance of `CheckAxioms`, and solve it using a SAT solver."
   ]
  },
  {
   "cell_type": "code",
   "execution_count": 7,
   "id": "4c75eeb1",
   "metadata": {},
   "outputs": [
    {
     "data": {
      "text/plain": [
       "True"
      ]
     },
     "execution_count": 7,
     "metadata": {},
     "output_type": "execute_result"
    }
   ],
   "source": [
    "from COMSOC.problems import CheckAxioms\n",
    "\n",
    "problem = CheckAxioms(corpus)\n",
    "problem.solve(strategy = \"SAT\")"
   ]
  },
  {
   "cell_type": "markdown",
   "id": "bf0845e3",
   "metadata": {},
   "source": [
    "Next, we can check whether certain known voting rules satisfy our set of axioms. To this end, the problem `CheckRule` can be used."
   ]
  },
  {
   "cell_type": "code",
   "execution_count": 8,
   "id": "ed2f7103",
   "metadata": {},
   "outputs": [
    {
     "name": "stdout",
     "output_type": "stream",
     "text": [
      "True\n",
      "False\n"
     ]
    }
   ],
   "source": [
    "from COMSOC.problems import CheckRule\n",
    "\n",
    "problem = CheckRule(corpus, borda_rule)\n",
    "print(problem.solve(strategy = \"SAT\"))\n",
    "\n",
    "problem = CheckRule(corpus, plurality_rule)\n",
    "print(problem.solve(strategy = \"SAT\"))"
   ]
  },
  {
   "cell_type": "markdown",
   "id": "7f2d4491",
   "metadata": {},
   "source": [
    "As we can see, the Borda rule satisfies our corpus. However, Plurality does not (as it violates Cancellation). Let us try again without this axiom."
   ]
  },
  {
   "cell_type": "code",
   "execution_count": 9,
   "id": "2dc4c411",
   "metadata": {},
   "outputs": [
    {
     "data": {
      "text/plain": [
       "True"
      ]
     },
     "execution_count": 9,
     "metadata": {},
     "output_type": "execute_result"
    }
   ],
   "source": [
    "corpus_small = {\n",
    "    theory.axioms.Faithfulness(scenario),\n",
    "    theory.axioms.Reinforcement(scenario),\n",
    "    theory.axioms.Pareto(scenario),\n",
    "    theory.axioms.Neutrality(scenario),\n",
    "}\n",
    "\n",
    "problem = CheckRule(corpus_small, plurality_rule)\n",
    "problem.solve(strategy = \"SAT\")"
   ]
  },
  {
   "cell_type": "markdown",
   "id": "4cf293b8",
   "metadata": {},
   "source": [
    "Finally, we can automatically generate a rule that satisfies our corpus. Here, the problem `FindRule` is used."
   ]
  },
  {
   "cell_type": "code",
   "execution_count": 10,
   "id": "3a121c76",
   "metadata": {},
   "outputs": [
    {
     "name": "stdout",
     "output_type": "stream",
     "text": [
      "#############################\n",
      "F(#1:c>b>a) ---> {'c'}\n",
      "F(#1:b>c>a) ---> {'b'}\n",
      "F(#1:b>a>c) ---> {'b'}\n",
      "F(#1:c>a>b) ---> {'c'}\n",
      "F(#1:a>b>c) ---> {'a'}\n",
      "F(#1:a>c>b) ---> {'a'}\n",
      "F(#1:a>b>c, #1:c>b>a) ---> {'b', 'c', 'a'}\n",
      "F(#2:c>b>a) ---> {'c'}\n",
      "F(#1:a>c>b, #1:b>a>c) ---> {'b'}\n",
      "F(#2:a>c>b) ---> {'a'}\n",
      "F(#1:a>c>b, #1:c>b>a) ---> {'a'}\n",
      "F(#1:b>a>c, #1:c>a>b) ---> {'b', 'c', 'a'}\n",
      "F(#2:b>c>a) ---> {'b'}\n",
      "F(#1:a>c>b, #1:c>a>b) ---> {'c'}\n",
      "F(#1:a>b>c, #1:b>a>c) ---> {'b'}\n",
      "F(#1:a>b>c, #1:b>c>a) ---> {'a'}\n",
      "F(#2:c>a>b) ---> {'c'}\n",
      "F(#1:a>b>c, #1:c>a>b) ---> {'c'}\n",
      "F(#1:b>a>c, #1:b>c>a) ---> {'b'}\n",
      "F(#1:c>a>b, #1:c>b>a) ---> {'c'}\n",
      "F(#1:b>a>c, #1:c>b>a) ---> {'c'}\n",
      "F(#1:a>c>b, #1:b>c>a) ---> {'b', 'c', 'a'}\n",
      "F(#2:a>b>c) ---> {'a'}\n",
      "F(#1:a>b>c, #1:a>c>b) ---> {'a'}\n",
      "F(#1:b>c>a, #1:c>b>a) ---> {'c'}\n",
      "F(#1:b>c>a, #1:c>a>b) ---> {'b'}\n",
      "F(#2:b>a>c) ---> {'b'}\n",
      "#############################\n"
     ]
    }
   ],
   "source": [
    "from COMSOC.problems import FindRule\n",
    "\n",
    "problem = FindRule(corpus)\n",
    "rule = problem.solve(strategy = \"SAT\")\n",
    "\n",
    "print(rule)"
   ]
  },
  {
   "cell_type": "markdown",
   "id": "598c10e5",
   "metadata": {},
   "source": [
    "Of course, we'd expect this rule to satisfy the smaller corpus of axioms as well:"
   ]
  },
  {
   "cell_type": "code",
   "execution_count": 11,
   "id": "e0b71589",
   "metadata": {},
   "outputs": [
    {
     "data": {
      "text/plain": [
       "True"
      ]
     },
     "execution_count": 11,
     "metadata": {},
     "output_type": "execute_result"
    }
   ],
   "source": [
    "CheckRule(corpus_small, rule).solve(strategy = \"SAT\")"
   ]
  },
  {
   "cell_type": "markdown",
   "id": "b6556cea",
   "metadata": {},
   "source": [
    "## Automated Justification"
   ]
  },
  {
   "cell_type": "markdown",
   "id": "a51eff49",
   "metadata": {},
   "source": [
    "The package can also be used to solve the problem of the automated justification of voting outcomes. Consider the following profile, outcome, and corpus of axioms."
   ]
  },
  {
   "cell_type": "code",
   "execution_count": 12,
   "id": "49232039",
   "metadata": {
    "scrolled": true
   },
   "outputs": [],
   "source": [
    "nVoters = 3\n",
    "alternatives = {\"a\", \"b\", \"c\"}\n",
    "\n",
    "scenario = theory.Scenario(nVoters, alternatives)\n",
    "\n",
    "profile = scenario.get_profile(\"3:a>b>c\")\n",
    "outcome = scenario.get_outcome(\"a\")\n",
    "corpus = {\n",
    "    theory.axioms.Faithfulness(scenario),\n",
    "    theory.axioms.Reinforcement(scenario),\n",
    "    theory.axioms.Cancellation(scenario),\n",
    "    theory.axioms.Pareto(scenario),\n",
    "    theory.axioms.Neutrality(scenario),\n",
    "    theory.axioms.PositiveResponsiveness(scenario)\n",
    "}"
   ]
  },
  {
   "cell_type": "markdown",
   "id": "9a2d382c",
   "metadata": {},
   "source": [
    "We can define the problem as follows:"
   ]
  },
  {
   "cell_type": "code",
   "execution_count": 13,
   "id": "53fc244d",
   "metadata": {},
   "outputs": [],
   "source": [
    "from COMSOC.problems import JustificationProblem\n",
    "\n",
    "problem = JustificationProblem(profile, outcome, corpus)"
   ]
  },
  {
   "cell_type": "markdown",
   "id": "46229ee9",
   "metadata": {},
   "source": [
    "To solve it, we can again call the `.solve()` method, which this time returns an iterator over all justifications. As additional parameters, we impose a maximum depth in the search of 3, we activate the heuristics, and we set the maximum number of justifications retrieved to 5. Among these, we return the smallest justification (in terms of number of instances). Furthermore, we add some heuristic axioms."
   ]
  },
  {
   "cell_type": "code",
   "execution_count": 14,
   "id": "3a2e9f3b",
   "metadata": {},
   "outputs": [
    {
     "name": "stdout",
     "output_type": "stream",
     "text": [
      "########\n",
      "Given profile: #3:a>b>c\n",
      "Target outcome: {a}\n",
      "Corpus: {Faithfulness, PositiveResponsiveness, Pareto, Reinforcement, AtLeastOne, Neutrality, Cancellation}\n",
      "\n",
      "NORMATIVE BASIS:\n",
      "\t{AtLeastOne, Pareto}\n",
      "EXPLANATION:\n",
      "\t(ATLEASTONE) In profile (#3:a>b>c) at least one alternative must win.\n",
      "\t(PARETO) In profile (#3:a>b>c) alternative c is Pareto-dominated. Hence, it cannot win.\n",
      "\t(PARETO) In profile (#3:a>b>c) alternative b is Pareto-dominated. Hence, it cannot win.\n",
      "########\n"
     ]
    }
   ],
   "source": [
    "from COMSOC.just import Symmetry, QuasiTiedWinner, QuasiTiedLoser\n",
    "\n",
    "derivedAxioms = {Symmetry(scenario),\\\n",
    "                                  QuasiTiedWinner(scenario), QuasiTiedLoser(scenario)}\n",
    "\n",
    "shortest = None\n",
    "# List of strategies: the first strategy will be tried first, then the second one, etc...\n",
    "for justification in problem.solve(extract = \"SAT\", nontriviality = [\"from_folder\", \"SAT\"],\\\n",
    "                                  heuristics = True, maximum = 100, derivedAxioms = derivedAxioms,\\\n",
    "                                  nb_folder = 'knownbases'):\n",
    "    \n",
    "    if shortest is None or len(justification) < len(shortest):\n",
    "        shortest = justification\n",
    "        \n",
    "print(shortest)"
   ]
  }
 ],
 "metadata": {
  "kernelspec": {
   "display_name": "Python 3",
   "language": "python",
   "name": "python3"
  },
  "language_info": {
   "codemirror_mode": {
    "name": "ipython",
    "version": 3
   },
   "file_extension": ".py",
   "mimetype": "text/x-python",
   "name": "python",
   "nbconvert_exporter": "python",
   "pygments_lexer": "ipython3",
   "version": "3.7.4"
  }
 },
 "nbformat": 4,
 "nbformat_minor": 5
}
