{
 "cells": [
  {
   "cell_type": "markdown",
   "metadata": {},
   "source": [
    "# COMSOC\n",
    "\n",
    "Welcome! This notebook will guide you through some of the functionalities of the `COMSOC` package."
   ]
  },
  {
   "cell_type": "markdown",
   "metadata": {},
   "source": [
    "## Scenarios\n",
    "\n",
    "To begin, let us import a _theory_. A theory is a general framework modelling a family of collective decisions. For example, Voting Theory, Participatory Budgeting or Multiwinner Voting. Let us import the module implementing the theory of anonymous voting."
   ]
  },
  {
   "cell_type": "code",
   "execution_count": 1,
   "metadata": {},
   "outputs": [],
   "source": [
    "import COMSOC.anonymous as theory"
   ]
  },
  {
   "cell_type": "markdown",
   "metadata": {},
   "source": [
    "Now we can focus on a specific instance, or _scenario_, of anonymous voting. Suppose that we want to model all situations where (up to) two anonymous voters need to choose between three alternatives, called `a`, `b` and `c`. To define this scenario, we can do the following:"
   ]
  },
  {
   "cell_type": "code",
   "execution_count": 2,
   "metadata": {
    "scrolled": true
   },
   "outputs": [
    {
     "name": "stdout",
     "output_type": "stream",
     "text": [
      "Anonymous voting scenario, with 2 voters and alternatives {a, b, c}.\n"
     ]
    }
   ],
   "source": [
    "nVoters = 2\n",
    "alternatives = {'a', 'b', 'c'}\n",
    "\n",
    "scenario = theory.Scenario(nVoters, alternatives)\n",
    "print(scenario)"
   ]
  },
  {
   "cell_type": "markdown",
   "metadata": {},
   "source": [
    "Next, we can focus on a specific _preference profile_, and compute the outcome selected by some common voting rules; the Borda and Plurality rules for example."
   ]
  },
  {
   "cell_type": "code",
   "execution_count": 3,
   "metadata": {
    "scrolled": true
   },
   "outputs": [
    {
     "name": "stdout",
     "output_type": "stream",
     "text": [
      "#1:a>b>c, #1:b>a>c\n",
      "Borda( #1:a>b>c, #1:b>a>c ) ==> {a, b}\n",
      "Plurality( #1:a>b>c, #1:b>a>c ) ==> {a, b}\n"
     ]
    }
   ],
   "source": [
    "profile = scenario.get_profile('a>b>c,b>a>c')\n",
    "\n",
    "print(profile)\n",
    "\n",
    "borda_rule = theory.rules.Borda(scenario)\n",
    "plurality_rule = theory.rules.Plurality(scenario)\n",
    "\n",
    "print(f'Borda( {profile} ) ==> {borda_rule(profile)}')\n",
    "print(f'Plurality( {profile} ) ==> {plurality_rule(profile)}')"
   ]
  },
  {
   "cell_type": "markdown",
   "metadata": {},
   "source": [
    "Another thing we can do is to loop over all possible profiles in this scenario, and select those with a Condorcet winner. Here, we print the first 5 such cases found."
   ]
  },
  {
   "cell_type": "code",
   "execution_count": 4,
   "metadata": {},
   "outputs": [
    {
     "name": "stdout",
     "output_type": "stream",
     "text": [
      "Profile #1:b>a>c has a Condorcet winner: b.\n",
      "Profile #1:a>c>b has a Condorcet winner: a.\n",
      "Profile #2:b>a>c has a Condorcet winner: b.\n",
      "Profile #2:c>a>b has a Condorcet winner: c.\n",
      "Profile #2:c>b>a has a Condorcet winner: c.\n"
     ]
    }
   ],
   "source": [
    "SetOfCW = {profile for profile in scenario.profiles if profile.hasCondorcetWinner()}\n",
    "\n",
    "for profile in list(SetOfCW)[:5]:\n",
    "    print(f\"Profile {profile} has a Condorcet winner: {profile.condorcetWinner()}.\")"
   ]
  },
  {
   "cell_type": "markdown",
   "metadata": {},
   "source": [
    "Indeed, as we do not allow for more than 2 voters, only unanimous profiles such as those listed above can have a Condorcet winner."
   ]
  },
  {
   "cell_type": "markdown",
   "metadata": {},
   "source": [
    "Yet another thing we can do is to print all profiles with exactly one voter:"
   ]
  },
  {
   "cell_type": "code",
   "execution_count": 6,
   "metadata": {
    "scrolled": true
   },
   "outputs": [
    {
     "name": "stdout",
     "output_type": "stream",
     "text": [
      "#1:a>c>b\n",
      "#1:a>b>c\n",
      "#1:c>a>b\n",
      "#1:b>c>a\n",
      "#1:b>a>c\n",
      "#1:c>b>a\n"
     ]
    }
   ],
   "source": [
    "for profile in scenario.profilesOfSize(1):\n",
    "    print(profile)"
   ]
  },
  {
   "cell_type": "markdown",
   "metadata": {},
   "source": [
    "## Reasoning"
   ]
  },
  {
   "cell_type": "markdown",
   "metadata": {},
   "source": [
    "Next, we are going to demonstrate how to perform automated reasoning tasks using this package. The module `COMSOC.problems` allows to perform various reasoning tasks regarding voting rules. Each of them offers a `.solve()` method, accepting parameters that control the strategy to be used."
   ]
  },
  {
   "cell_type": "markdown",
   "metadata": {},
   "source": [
    "A first task one can perform is to check the satisfiability of a set of axioms. Given a corpus of axioms, we are able to search for and obtain voting rules satisfying them.\n",
    "First of all, let us create a corpus of axioms."
   ]
  },
  {
   "cell_type": "code",
   "execution_count": 7,
   "metadata": {},
   "outputs": [],
   "source": [
    "corpus = {\n",
    "    theory.axioms.Faithfulness(scenario),\n",
    "    theory.axioms.Reinforcement(scenario),\n",
    "    theory.axioms.Cancellation(scenario),\n",
    "    theory.axioms.Pareto(scenario),\n",
    "    theory.axioms.Neutrality(scenario),\n",
    "}"
   ]
  },
  {
   "cell_type": "markdown",
   "metadata": {},
   "source": [
    "Is this set of axioms satisfiable? To check this, we define a new instance of `CheckAxioms`, and solve it using a SAT solver."
   ]
  },
  {
   "cell_type": "code",
   "execution_count": 8,
   "metadata": {},
   "outputs": [
    {
     "data": {
      "text/plain": [
       "True"
      ]
     },
     "execution_count": 8,
     "metadata": {},
     "output_type": "execute_result"
    }
   ],
   "source": [
    "from COMSOC.problems import CheckAxioms\n",
    "\n",
    "problem = CheckAxioms(corpus)\n",
    "problem.solve(strategy = \"SAT\")"
   ]
  },
  {
   "cell_type": "markdown",
   "metadata": {},
   "source": [
    "Next, we can check whether certain known voting rules satisfy our set of axioms. To this end, the problem `CheckRule` can be used."
   ]
  },
  {
   "cell_type": "code",
   "execution_count": 9,
   "metadata": {},
   "outputs": [
    {
     "name": "stdout",
     "output_type": "stream",
     "text": [
      "True\n",
      "False\n"
     ]
    }
   ],
   "source": [
    "from COMSOC.problems import CheckRule\n",
    "\n",
    "problem = CheckRule(corpus, borda_rule)\n",
    "print(problem.solve(strategy = \"SAT\"))\n",
    "\n",
    "problem = CheckRule(corpus, plurality_rule)\n",
    "print(problem.solve(strategy = \"SAT\"))"
   ]
  },
  {
   "cell_type": "markdown",
   "metadata": {},
   "source": [
    "As we can see, the Borda rule satisfies our corpus. However, Plurality does not (as it violates Cancellation). Let us try again without this axiom."
   ]
  },
  {
   "cell_type": "code",
   "execution_count": 10,
   "metadata": {},
   "outputs": [
    {
     "data": {
      "text/plain": [
       "True"
      ]
     },
     "execution_count": 10,
     "metadata": {},
     "output_type": "execute_result"
    }
   ],
   "source": [
    "corpus_small = {\n",
    "    theory.axioms.Faithfulness(scenario),\n",
    "    theory.axioms.Reinforcement(scenario),\n",
    "    theory.axioms.Pareto(scenario),\n",
    "    theory.axioms.Neutrality(scenario),\n",
    "}\n",
    "\n",
    "problem = CheckRule(corpus_small, plurality_rule)\n",
    "problem.solve(strategy = \"SAT\")"
   ]
  },
  {
   "cell_type": "markdown",
   "metadata": {},
   "source": [
    "Finally, we can automatically generate a rule that satisfies our corpus. Here, the problem `FindRule` is used."
   ]
  },
  {
   "cell_type": "code",
   "execution_count": 11,
   "metadata": {},
   "outputs": [
    {
     "name": "stdout",
     "output_type": "stream",
     "text": [
      "#############################\n",
      "F(#1:a>c>b) ---> {'a'}\n",
      "F(#1:a>b>c) ---> {'a'}\n",
      "F(#1:c>a>b) ---> {'c'}\n",
      "F(#1:b>c>a) ---> {'b'}\n",
      "F(#1:b>a>c) ---> {'b'}\n",
      "F(#1:c>b>a) ---> {'c'}\n",
      "F(#1:b>c>a, #1:c>b>a) ---> {'b'}\n",
      "F(#2:c>b>a) ---> {'c'}\n",
      "F(#2:b>a>c) ---> {'b'}\n",
      "F(#1:a>b>c, #1:b>a>c) ---> {'a'}\n",
      "F(#1:a>c>b, #1:b>c>a) ---> {'b', 'c', 'a'}\n",
      "F(#2:c>a>b) ---> {'c'}\n",
      "F(#1:a>b>c, #1:a>c>b) ---> {'a'}\n",
      "F(#1:c>a>b, #1:c>b>a) ---> {'c'}\n",
      "F(#1:b>a>c, #1:c>b>a) ---> {'b'}\n",
      "F(#2:a>b>c) ---> {'a'}\n",
      "F(#1:a>b>c, #1:c>b>a) ---> {'b', 'c', 'a'}\n",
      "F(#1:a>c>b, #1:c>a>b) ---> {'a'}\n",
      "F(#1:b>a>c, #1:b>c>a) ---> {'b'}\n",
      "F(#1:a>c>b, #1:c>b>a) ---> {'c'}\n",
      "F(#2:a>c>b) ---> {'a'}\n",
      "F(#2:b>c>a) ---> {'b'}\n",
      "F(#1:a>b>c, #1:c>a>b) ---> {'a'}\n",
      "F(#1:a>c>b, #1:b>a>c) ---> {'a'}\n",
      "F(#1:b>c>a, #1:c>a>b) ---> {'c'}\n",
      "F(#1:a>b>c, #1:b>c>a) ---> {'b'}\n",
      "F(#1:b>a>c, #1:c>a>b) ---> {'b', 'c', 'a'}\n",
      "#############################\n"
     ]
    }
   ],
   "source": [
    "from COMSOC.problems import FindRule\n",
    "\n",
    "problem = FindRule(corpus)\n",
    "rule = problem.solve(strategy = \"SAT\")\n",
    "\n",
    "print(rule)"
   ]
  },
  {
   "cell_type": "markdown",
   "metadata": {},
   "source": [
    "Of course, we'd expect this rule to satisfy the smaller corpus of axioms as well:"
   ]
  },
  {
   "cell_type": "code",
   "execution_count": 11,
   "metadata": {},
   "outputs": [
    {
     "data": {
      "text/plain": [
       "True"
      ]
     },
     "execution_count": 11,
     "metadata": {},
     "output_type": "execute_result"
    }
   ],
   "source": [
    "CheckRule(corpus_small, rule).solve(strategy = \"SAT\")"
   ]
  },
  {
   "cell_type": "markdown",
   "metadata": {},
   "source": [
    "## Automated Justification"
   ]
  },
  {
   "cell_type": "markdown",
   "metadata": {},
   "source": [
    "The package can also be used to solve the problem of the automated justification of voting outcomes. Consider the following profile, outcome, and corpus of axioms."
   ]
  },
  {
   "cell_type": "code",
   "execution_count": 13,
   "metadata": {
    "scrolled": true
   },
   "outputs": [],
   "source": [
    "nVoters = 2\n",
    "alternatives = {\"a\", \"b\", \"c\"}\n",
    "\n",
    "scenario = theory.Scenario(nVoters, alternatives)\n",
    "\n",
    "profile = scenario.get_profile(\"a>b>c,b>a>c\")\n",
    "outcome = scenario.get_outcome(\"a,b\")\n",
    "corpus = {\n",
    "    theory.axioms.Faithfulness(scenario),\n",
    "    theory.axioms.Reinforcement(scenario),\n",
    "    theory.axioms.Cancellation(scenario),\n",
    "    theory.axioms.Pareto(scenario),\n",
    "    theory.axioms.Neutrality(scenario),\n",
    "    theory.axioms.PositiveResponsiveness(scenario)\n",
    "}"
   ]
  },
  {
   "cell_type": "markdown",
   "metadata": {},
   "source": [
    "We can define the problem as follows:"
   ]
  },
  {
   "cell_type": "code",
   "execution_count": 16,
   "metadata": {},
   "outputs": [],
   "source": [
    "from COMSOC.problems import JustificationProblem\n",
    "\n",
    "problem = JustificationProblem(profile, outcome, corpus)"
   ]
  },
  {
   "cell_type": "markdown",
   "metadata": {},
   "source": [
    "To solve it, we can again call the `.solve()` method, which this time returns an iterator over all justifications. As additional parameters, we impose a maximum depth in the search of 3, we activate the heuristics, and we set the maximum number of justifications retrieved to 5. Among these, we return the smallest justification (in terms of number of instances). Furthermore, we add some heuristic axioms."
   ]
  },
  {
   "cell_type": "code",
   "execution_count": 17,
   "metadata": {},
   "outputs": [
    {
     "ename": "ProcessLookupError",
     "evalue": "[Errno 3] No such process",
     "output_type": "error",
     "traceback": [
      "\u001b[0;31m---------------------------------------------------------------------------\u001b[0m",
      "\u001b[0;31mProcessLookupError\u001b[0m                        Traceback (most recent call last)",
      "\u001b[0;32m<ipython-input-17-fdf0ff9991f1>\u001b[0m in \u001b[0;36m<module>\u001b[0;34m\u001b[0m\n\u001b[1;32m      6\u001b[0m for justification in problem.solve(extract = \"SAT\", nontriviality = \"ignore\", depth = 0,\\\n\u001b[1;32m      7\u001b[0m                                   heuristics = True, maximum = 1000, derivedAxioms = (Symmetry(scenario),\\\n\u001b[0;32m----> 8\u001b[0;31m                                   QuasiTiedWinner(scenario), QuasiTiedLoser(scenario))):\n\u001b[0m\u001b[1;32m      9\u001b[0m \u001b[0;34m\u001b[0m\u001b[0m\n\u001b[1;32m     10\u001b[0m     \u001b[0;32mif\u001b[0m \u001b[0mshortest\u001b[0m \u001b[0;32mis\u001b[0m \u001b[0;32mNone\u001b[0m \u001b[0;32mor\u001b[0m \u001b[0mlen\u001b[0m\u001b[0;34m(\u001b[0m\u001b[0mjustification\u001b[0m\u001b[0;34m)\u001b[0m \u001b[0;34m<\u001b[0m \u001b[0mlen\u001b[0m\u001b[0;34m(\u001b[0m\u001b[0mshortest\u001b[0m\u001b[0;34m)\u001b[0m\u001b[0;34m:\u001b[0m\u001b[0;34m\u001b[0m\u001b[0;34m\u001b[0m\u001b[0m\n",
      "\u001b[0;32m~/Documents/GitRepos/comsoc/COMSOC/problems.py\u001b[0m in \u001b[0;36msolve\u001b[0;34m(self, extract, nontriviality, depth, heuristics, maximum, derivedAxioms)\u001b[0m\n\u001b[1;32m    232\u001b[0m         \u001b[0;32mfor\u001b[0m \u001b[0minstances\u001b[0m \u001b[0;32min\u001b[0m \u001b[0mgraph\u001b[0m\u001b[0;34m.\u001b[0m\u001b[0mBFS\u001b[0m\u001b[0;34m(\u001b[0m\u001b[0mself\u001b[0m\u001b[0;34m.\u001b[0m\u001b[0mprofile\u001b[0m\u001b[0;34m,\u001b[0m \u001b[0mdepth\u001b[0m\u001b[0;34m)\u001b[0m\u001b[0;34m:\u001b[0m\u001b[0;34m\u001b[0m\u001b[0;34m\u001b[0m\u001b[0m\n\u001b[1;32m    233\u001b[0m             \u001b[0;31m# Try to extract a justification from these instances:\u001b[0m\u001b[0;34m\u001b[0m\u001b[0;34m\u001b[0m\u001b[0;34m\u001b[0m\u001b[0m\n\u001b[0;32m--> 234\u001b[0;31m             \u001b[0;32mfor\u001b[0m \u001b[0mjustification\u001b[0m \u001b[0;32min\u001b[0m \u001b[0mself\u001b[0m\u001b[0;34m.\u001b[0m\u001b[0m_extract\u001b[0m\u001b[0;34m(\u001b[0m\u001b[0minstances\u001b[0m\u001b[0;34m,\u001b[0m \u001b[0mextract_reasoner\u001b[0m\u001b[0;34m,\u001b[0m \u001b[0mnontriviality_reasoner\u001b[0m\u001b[0;34m)\u001b[0m\u001b[0;34m:\u001b[0m\u001b[0;34m\u001b[0m\u001b[0;34m\u001b[0m\u001b[0m\n\u001b[0m\u001b[1;32m    235\u001b[0m                 \u001b[0;31m# if we find one, yield it\u001b[0m\u001b[0;34m\u001b[0m\u001b[0;34m\u001b[0m\u001b[0;34m\u001b[0m\u001b[0m\n\u001b[1;32m    236\u001b[0m \u001b[0;34m\u001b[0m\u001b[0m\n",
      "\u001b[0;32m~/Documents/GitRepos/comsoc/COMSOC/problems.py\u001b[0m in \u001b[0;36m_extract\u001b[0;34m(self, instances, extract_reasoner, nontriviality_reasoner)\u001b[0m\n\u001b[1;32m    133\u001b[0m \u001b[0;34m\u001b[0m\u001b[0m\n\u001b[1;32m    134\u001b[0m             \u001b[0;31m# Enumerate all MUSes of these instances...\u001b[0m\u001b[0;34m\u001b[0m\u001b[0;34m\u001b[0m\u001b[0;34m\u001b[0m\u001b[0m\n\u001b[0;32m--> 135\u001b[0;31m             \u001b[0;32mfor\u001b[0m \u001b[0mMUS\u001b[0m \u001b[0;32min\u001b[0m \u001b[0mextract_reasoner\u001b[0m\u001b[0;34m.\u001b[0m\u001b[0menumerateMUSes\u001b[0m\u001b[0;34m(\u001b[0m\u001b[0minstances\u001b[0m\u001b[0;34m)\u001b[0m\u001b[0;34m:\u001b[0m\u001b[0;34m\u001b[0m\u001b[0;34m\u001b[0m\u001b[0m\n\u001b[0m\u001b[1;32m    136\u001b[0m \u001b[0;34m\u001b[0m\u001b[0m\n\u001b[1;32m    137\u001b[0m                 \u001b[0;31m# An MUS is an explanation iff it contains the goal profile.\u001b[0m\u001b[0;34m\u001b[0m\u001b[0;34m\u001b[0m\u001b[0;34m\u001b[0m\u001b[0m\n",
      "\u001b[0;32m~/Documents/GitRepos/comsoc/COMSOC/reasoning.py\u001b[0m in \u001b[0;36menumerateMUSes\u001b[0;34m(self, instances, maximum)\u001b[0m\n\u001b[1;32m    218\u001b[0m         \u001b[0;32mfinally\u001b[0m\u001b[0;34m:\u001b[0m\u001b[0;34m\u001b[0m\u001b[0;34m\u001b[0m\u001b[0m\n\u001b[1;32m    219\u001b[0m             \u001b[0;31m# Kill the subprocess.\u001b[0m\u001b[0;34m\u001b[0m\u001b[0;34m\u001b[0m\u001b[0;34m\u001b[0m\u001b[0m\n\u001b[0;32m--> 220\u001b[0;31m             \u001b[0mos\u001b[0m\u001b[0;34m.\u001b[0m\u001b[0mkillpg\u001b[0m\u001b[0;34m(\u001b[0m\u001b[0mos\u001b[0m\u001b[0;34m.\u001b[0m\u001b[0mgetpgid\u001b[0m\u001b[0;34m(\u001b[0m\u001b[0mproc\u001b[0m\u001b[0;34m.\u001b[0m\u001b[0mpid\u001b[0m\u001b[0;34m)\u001b[0m\u001b[0;34m,\u001b[0m \u001b[0msignal\u001b[0m\u001b[0;34m.\u001b[0m\u001b[0mSIGTERM\u001b[0m\u001b[0;34m)\u001b[0m\u001b[0;34m\u001b[0m\u001b[0;34m\u001b[0m\u001b[0m\n\u001b[0m\u001b[1;32m    221\u001b[0m             \u001b[0;31m# Remove the created file.\u001b[0m\u001b[0;34m\u001b[0m\u001b[0;34m\u001b[0m\u001b[0;34m\u001b[0m\u001b[0m\n\u001b[1;32m    222\u001b[0m             \u001b[0mos\u001b[0m\u001b[0;34m.\u001b[0m\u001b[0mremove\u001b[0m\u001b[0;34m(\u001b[0m\u001b[0mself\u001b[0m\u001b[0;34m.\u001b[0m\u001b[0mFILE_NAME\u001b[0m\u001b[0;34m)\u001b[0m\u001b[0;34m\u001b[0m\u001b[0;34m\u001b[0m\u001b[0m\n",
      "\u001b[0;31mProcessLookupError\u001b[0m: [Errno 3] No such process"
     ]
    }
   ],
   "source": [
    "from COMSOC.just import Symmetry, QuasiTiedWinner, QuasiTiedLoser\n",
    "\n",
    "shortest = None\n",
    "# Note: ignoring nontriviality as I still have to implement the relevant code for Positive Responsiveness;\n",
    "# will be added soon.\n",
    "for justification in problem.solve(extract = \"SAT\", nontriviality = \"ignore\", depth = 0,\\\n",
    "                                  heuristics = True, maximum = 1000, derivedAxioms = (Symmetry(scenario),\\\n",
    "                                  QuasiTiedWinner(scenario), QuasiTiedLoser(scenario))):\n",
    "    \n",
    "    if shortest is None or len(justification) < len(shortest):\n",
    "        shortest = justification\n",
    "        \n",
    "print(shortest)"
   ]
  },
  {
   "cell_type": "code",
   "execution_count": null,
   "metadata": {},
   "outputs": [],
   "source": []
  }
 ],
 "metadata": {
  "kernelspec": {
   "display_name": "Python 3",
   "language": "python",
   "name": "python3"
  },
  "language_info": {
   "codemirror_mode": {
    "name": "ipython",
    "version": 3
   },
   "file_extension": ".py",
   "mimetype": "text/x-python",
   "name": "python",
   "nbconvert_exporter": "python",
   "pygments_lexer": "ipython3",
   "version": "3.7.7"
  }
 },
 "nbformat": 4,
 "nbformat_minor": 5
}
