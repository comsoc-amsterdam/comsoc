{
 "cells": [
  {
   "cell_type": "markdown",
   "id": "49764289",
   "metadata": {},
   "source": [
    "# COMSOC\n",
    "\n",
    "Welcome! This notebook will guide you through some of the functionalities of the `COMSOC` package."
   ]
  },
  {
   "cell_type": "markdown",
   "id": "2f7f039a",
   "metadata": {},
   "source": [
    "## Scenarios\n",
    "\n",
    "To begin, let us import a _theory_. A theory is a general framework modelling a family of collective decisions. For example, Voting Theory, Participatory Budgeting or Multiwinner Voting. Let us import the module which implements the theory of anonymous voting."
   ]
  },
  {
   "cell_type": "code",
   "execution_count": 1,
   "id": "470e8be9",
   "metadata": {},
   "outputs": [],
   "source": [
    "import COMSOC.anonymous as theory"
   ]
  },
  {
   "cell_type": "markdown",
   "id": "31b07f41",
   "metadata": {},
   "source": [
    "Now, we can focus on a specific instance, or _scenario_, of anonymous voting. Suppose that we want to model all situations where (up to) two anonymous voters need to choose between three alternatives, called `a`, `b` and `c`. To define this scenario, we can do the following:"
   ]
  },
  {
   "cell_type": "code",
   "execution_count": 2,
   "id": "9930cc16",
   "metadata": {
    "scrolled": true
   },
   "outputs": [
    {
     "name": "stdout",
     "output_type": "stream",
     "text": [
      "Anonymous voting scenario, with 2 voters and alternatives {a, b, c}.\n"
     ]
    }
   ],
   "source": [
    "nVoters = 2\n",
    "alternatives = {'a', 'b', 'c'}\n",
    "\n",
    "scenario = theory.Scenario(nVoters, alternatives)\n",
    "print(scenario)"
   ]
  },
  {
   "cell_type": "markdown",
   "id": "cf0e87e1",
   "metadata": {},
   "source": [
    "Next, we can focus on a specific _preference profile_, and compute the outcome selected by lnwon voting rules; the Borda and Plurality rules for example."
   ]
  },
  {
   "cell_type": "code",
   "execution_count": 3,
   "id": "69327a81",
   "metadata": {
    "scrolled": true
   },
   "outputs": [
    {
     "name": "stdout",
     "output_type": "stream",
     "text": [
      "#1:a>b>c, #1:b>a>c\n",
      "Borda( #1:a>b>c, #1:b>a>c ) ==> {a, b}\n",
      "Plurality( #1:a>b>c, #1:b>a>c ) ==> {a, b}\n"
     ]
    }
   ],
   "source": [
    "profile = scenario.get_profile('a>b>c,b>a>c')\n",
    "\n",
    "print(profile)\n",
    "\n",
    "borda_rule = theory.rules.Borda(scenario)\n",
    "plurality_rule = theory.rules.Plurality(scenario)\n",
    "\n",
    "print(f'Borda( {profile} ) ==> {borda_rule(profile)}')\n",
    "print(f'Plurality( {profile} ) ==> {plurality_rule(profile)}')"
   ]
  },
  {
   "cell_type": "markdown",
   "id": "0193efb6",
   "metadata": {},
   "source": [
    "Alternatively, we can loop over all possible profiles in this scenario, and select only those with a Condorcet winner. Here, we print the first 5."
   ]
  },
  {
   "cell_type": "code",
   "execution_count": 4,
   "id": "9744a0e9",
   "metadata": {},
   "outputs": [
    {
     "name": "stdout",
     "output_type": "stream",
     "text": [
      "Profile #1:a>b>c, #1:a>c>b has a Condorcet winner: a.\n",
      "Profile #2:c>a>b has a Condorcet winner: c.\n",
      "Profile #2:b>c>a has a Condorcet winner: b.\n",
      "Profile #1:b>c>a has a Condorcet winner: b.\n",
      "Profile #2:c>b>a has a Condorcet winner: c.\n"
     ]
    }
   ],
   "source": [
    "SetOfCW = {profile for profile in scenario.profiles if profile.hasCondorcetWinner()}\n",
    "\n",
    "for profile in list(SetOfCW)[:5]:\n",
    "    print(f\"Profile {profile} has a Condorcet winner: {profile.condorcetWinner()}.\")"
   ]
  },
  {
   "cell_type": "markdown",
   "id": "dd7ec9d5",
   "metadata": {},
   "source": [
    "Or all profiles with exactly one voter:"
   ]
  },
  {
   "cell_type": "code",
   "execution_count": 5,
   "id": "dcf61df8",
   "metadata": {
    "scrolled": true
   },
   "outputs": [
    {
     "name": "stdout",
     "output_type": "stream",
     "text": [
      "#1:b>c>a\n",
      "#1:c>b>a\n",
      "#1:a>b>c\n",
      "#1:b>a>c\n",
      "#1:c>a>b\n",
      "#1:a>c>b\n"
     ]
    }
   ],
   "source": [
    "for profile in scenario.profilesOfSize(1):\n",
    "    print(profile)"
   ]
  },
  {
   "cell_type": "markdown",
   "id": "b7eb976a",
   "metadata": {},
   "source": [
    "## Reasoning"
   ]
  },
  {
   "cell_type": "markdown",
   "id": "925fb19a",
   "metadata": {},
   "source": [
    "Now, we will demonstrate how to perform automated reasoning tasks using this package. The module `COMSOC.problems` allows to perform various reasoning tasks regarding voting rules. Each of them offers a `.solve()` method, which accepts a `strategy` named argument."
   ]
  },
  {
   "cell_type": "markdown",
   "id": "a358c63d",
   "metadata": {},
   "source": [
    "A first task one can perform is to check the satisfiability of a set of axioms. Given a corpus of axioms, we are able to search for and obtain voting rules satisfying them.\n",
    "First of all, let us create a corpus of axioms."
   ]
  },
  {
   "cell_type": "code",
   "execution_count": 8,
   "id": "059e8ec4",
   "metadata": {},
   "outputs": [],
   "source": [
    "corpus = {\n",
    "    theory.axioms.Faithfulness(scenario),\n",
    "    theory.axioms.Reinforcement(scenario),\n",
    "    theory.axioms.Cancellation(scenario),\n",
    "    theory.axioms.Pareto(scenario),\n",
    "    theory.axioms.Neutrality(scenario),\n",
    "}"
   ]
  },
  {
   "cell_type": "markdown",
   "id": "475ae547",
   "metadata": {},
   "source": [
    "Is this set of axioms satisfiable? To check this, we define a new instance of the `CheckAxioms` problem, and solve it using a SAT solver."
   ]
  },
  {
   "cell_type": "code",
   "execution_count": 9,
   "id": "ff1aaac9",
   "metadata": {},
   "outputs": [
    {
     "data": {
      "text/plain": [
       "True"
      ]
     },
     "execution_count": 9,
     "metadata": {},
     "output_type": "execute_result"
    }
   ],
   "source": [
    "from COMSOC.problems import CheckAxioms\n",
    "\n",
    "problem = CheckAxioms(corpus)\n",
    "problem.solve(strategy = \"SAT\")"
   ]
  },
  {
   "cell_type": "markdown",
   "id": "08c0b037",
   "metadata": {},
   "source": [
    "Next, we can check whether some already know rules satisfy our set of axioms. To this end, the problem `CheckRule` can be used."
   ]
  },
  {
   "cell_type": "code",
   "execution_count": 10,
   "id": "d70d6060",
   "metadata": {},
   "outputs": [
    {
     "name": "stdout",
     "output_type": "stream",
     "text": [
      "True\n",
      "False\n"
     ]
    }
   ],
   "source": [
    "from COMSOC.problems import CheckRule\n",
    "\n",
    "problem = CheckRule(corpus, borda_rule)\n",
    "print(problem.solve(strategy = \"SAT\"))\n",
    "\n",
    "problem = CheckRule(corpus, plurality_rule)\n",
    "print(problem.solve(strategy = \"SAT\"))"
   ]
  },
  {
   "cell_type": "markdown",
   "id": "8ebccfc0",
   "metadata": {},
   "source": [
    "As we can see, the Borda rule satisfies our corpus. However, Plurality does not (as it violates Cancellation). Let us try again without this axiom."
   ]
  },
  {
   "cell_type": "code",
   "execution_count": 12,
   "id": "707e54d9",
   "metadata": {},
   "outputs": [
    {
     "data": {
      "text/plain": [
       "True"
      ]
     },
     "execution_count": 12,
     "metadata": {},
     "output_type": "execute_result"
    }
   ],
   "source": [
    "corpus_small = {\n",
    "    theory.axioms.Faithfulness(scenario),\n",
    "    theory.axioms.Reinforcement(scenario),\n",
    "    theory.axioms.Pareto(scenario),\n",
    "    theory.axioms.Neutrality(scenario),\n",
    "}\n",
    "\n",
    "problem = CheckRule(corpus_small, plurality_rule)\n",
    "problem.solve(strategy = \"SAT\")"
   ]
  },
  {
   "cell_type": "markdown",
   "id": "1dea9a33",
   "metadata": {},
   "source": [
    "Finally, we can automatically generate a rule that satisfies our corpus. Here, the problem `FindRule` is used."
   ]
  },
  {
   "cell_type": "code",
   "execution_count": 13,
   "id": "f745d137",
   "metadata": {},
   "outputs": [
    {
     "name": "stdout",
     "output_type": "stream",
     "text": [
      "#############################\n",
      "F(#1:b>c>a) ---> {'b'}\n",
      "F(#1:c>b>a) ---> {'c'}\n",
      "F(#1:a>b>c) ---> {'a'}\n",
      "F(#1:b>a>c) ---> {'b'}\n",
      "F(#1:c>a>b) ---> {'c'}\n",
      "F(#1:a>c>b) ---> {'a'}\n",
      "F(#2:a>c>b) ---> {'a'}\n",
      "F(#1:b>a>c, #1:b>c>a) ---> {'b'}\n",
      "F(#1:a>b>c, #1:c>b>a) ---> {'c', 'a', 'b'}\n",
      "F(#2:a>b>c) ---> {'a'}\n",
      "F(#1:a>b>c, #1:b>c>a) ---> {'b'}\n",
      "F(#1:a>b>c, #1:b>a>c) ---> {'a'}\n",
      "F(#1:b>a>c, #1:c>a>b) ---> {'c', 'a', 'b'}\n",
      "F(#2:c>a>b) ---> {'c'}\n",
      "F(#2:c>b>a) ---> {'c'}\n",
      "F(#2:b>a>c) ---> {'b'}\n",
      "F(#1:b>c>a, #1:c>a>b) ---> {'c'}\n",
      "F(#1:b>a>c, #1:c>b>a) ---> {'b'}\n",
      "F(#1:a>b>c, #1:c>a>b) ---> {'a'}\n",
      "F(#1:a>c>b, #1:c>a>b) ---> {'c'}\n",
      "F(#1:a>c>b, #1:b>c>a) ---> {'c', 'a', 'b'}\n",
      "F(#1:c>a>b, #1:c>b>a) ---> {'c'}\n",
      "F(#1:a>c>b, #1:c>b>a) ---> {'c'}\n",
      "F(#1:b>c>a, #1:c>b>a) ---> {'b'}\n",
      "F(#1:a>b>c, #1:a>c>b) ---> {'a'}\n",
      "F(#1:a>c>b, #1:b>a>c) ---> {'a'}\n",
      "F(#2:b>c>a) ---> {'b'}\n",
      "#############################\n"
     ]
    }
   ],
   "source": [
    "from COMSOC.problems import FindRule\n",
    "\n",
    "problem = FindRule(corpus)\n",
    "rule = problem.solve(strategy = \"SAT\")\n",
    "\n",
    "print(rule)"
   ]
  },
  {
   "cell_type": "markdown",
   "id": "5857b0a3",
   "metadata": {},
   "source": [
    "Of course, we'd expect this rule to satisfy the smaller corpus of axioms as well:"
   ]
  },
  {
   "cell_type": "code",
   "execution_count": 14,
   "id": "5ea30188",
   "metadata": {},
   "outputs": [
    {
     "data": {
      "text/plain": [
       "True"
      ]
     },
     "execution_count": 14,
     "metadata": {},
     "output_type": "execute_result"
    }
   ],
   "source": [
    "CheckRule(corpus_small, rule).solve(strategy = \"SAT\")"
   ]
  },
  {
   "cell_type": "markdown",
   "id": "4fc9e180",
   "metadata": {},
   "source": [
    "## Automated Justification"
   ]
  },
  {
   "cell_type": "markdown",
   "id": "b098364e",
   "metadata": {},
   "source": [
    "The package can also be used to solve the problem of the automated justification of voting outcomes. Consider the following profile, outcome and axioms."
   ]
  },
  {
   "cell_type": "code",
   "execution_count": 15,
   "id": "185c2c27",
   "metadata": {
    "scrolled": true
   },
   "outputs": [],
   "source": [
    "nVoters = 2\n",
    "alternatives = {\"a\", \"b\", \"c\"}\n",
    "\n",
    "scenario = theory.Scenario(nVoters, alternatives)\n",
    "\n",
    "profile = scenario.get_profile(\"a>b>c,b>a>c\")\n",
    "outcome = scenario.get_outcome(\"a,b\")\n",
    "corpus = {\n",
    "    theory.axioms.Faithfulness(scenario),\n",
    "    theory.axioms.Reinforcement(scenario),\n",
    "    theory.axioms.Cancellation(scenario),\n",
    "    #theory.axioms.Pareto(scenario),\n",
    "    theory.axioms.Neutrality(scenario),\n",
    "    theory.axioms.PositiveResponsiveness(scenario)\n",
    "}"
   ]
  },
  {
   "cell_type": "markdown",
   "id": "2a421c13",
   "metadata": {},
   "source": [
    "We can define the problem as follows:"
   ]
  },
  {
   "cell_type": "code",
   "execution_count": 16,
   "id": "7d4bdef7",
   "metadata": {},
   "outputs": [],
   "source": [
    "from COMSOC.problems import JustificationProblem\n",
    "\n",
    "problem = JustificationProblem(profile, outcome, corpus)"
   ]
  },
  {
   "cell_type": "markdown",
   "id": "0bbdf868",
   "metadata": {},
   "source": [
    "To solve it, we can again call the `.solve()` method, which this time returns an iterator over all justifications. As additional parameters, we impose a maximum depth in the search of 3, we activate the heuristics , and we set the maximum number of justifications retrieved to 5. Among these, we return the smallest justification (in terms of number of instances). Furthermore, we add the heuristic axiom of `Symmetry`."
   ]
  },
  {
   "cell_type": "code",
   "execution_count": 17,
   "id": "6cefbeac",
   "metadata": {},
   "outputs": [
    {
     "ename": "AttributeError",
     "evalue": "module 'os' has no attribute 'killpg'",
     "output_type": "error",
     "traceback": [
      "\u001b[1;31m---------------------------------------------------------------------------\u001b[0m",
      "\u001b[1;31mAttributeError\u001b[0m                            Traceback (most recent call last)",
      "\u001b[1;32m~\\Documents\\GitHub\\comsoc\\COMSOC\\reasoning.py\u001b[0m in \u001b[0;36menumerateMUSes\u001b[1;34m(self, instances, maximum)\u001b[0m\n\u001b[0;32m    202\u001b[0m             \u001b[1;31m# Launch the subprocess.\u001b[0m\u001b[1;33m\u001b[0m\u001b[1;33m\u001b[0m\u001b[0m\n\u001b[1;32m--> 203\u001b[1;33m             \u001b[0mproc\u001b[0m \u001b[1;33m=\u001b[0m \u001b[0msubprocess\u001b[0m\u001b[1;33m.\u001b[0m\u001b[0mPopen\u001b[0m\u001b[1;33m(\u001b[0m\u001b[0mcommand\u001b[0m\u001b[1;33m,\u001b[0m \u001b[0mstdout\u001b[0m\u001b[1;33m=\u001b[0m\u001b[0msubprocess\u001b[0m\u001b[1;33m.\u001b[0m\u001b[0mPIPE\u001b[0m\u001b[1;33m,\u001b[0m \u001b[0mstderr\u001b[0m\u001b[1;33m=\u001b[0m\u001b[0msubprocess\u001b[0m\u001b[1;33m.\u001b[0m\u001b[0mDEVNULL\u001b[0m\u001b[1;33m,\u001b[0m \u001b[0mshell\u001b[0m \u001b[1;33m=\u001b[0m \u001b[1;32mTrue\u001b[0m\u001b[1;33m,\u001b[0m \u001b[0mpreexec_fn\u001b[0m\u001b[1;33m=\u001b[0m\u001b[0mos\u001b[0m\u001b[1;33m.\u001b[0m\u001b[0msetsid\u001b[0m\u001b[1;33m)\u001b[0m\u001b[1;33m\u001b[0m\u001b[1;33m\u001b[0m\u001b[0m\n\u001b[0m\u001b[0;32m    204\u001b[0m \u001b[1;33m\u001b[0m\u001b[0m\n",
      "\u001b[1;31mAttributeError\u001b[0m: module 'os' has no attribute 'setsid'",
      "\nDuring handling of the above exception, another exception occurred:\n",
      "\u001b[1;31mAttributeError\u001b[0m                            Traceback (most recent call last)",
      "\u001b[1;32m~\\AppData\\Local\\Temp/ipykernel_16916/4145101987.py\u001b[0m in \u001b[0;36m<module>\u001b[1;34m\u001b[0m\n\u001b[0;32m      2\u001b[0m \u001b[1;33m\u001b[0m\u001b[0m\n\u001b[0;32m      3\u001b[0m \u001b[0mshortest\u001b[0m \u001b[1;33m=\u001b[0m \u001b[1;32mNone\u001b[0m\u001b[1;33m\u001b[0m\u001b[1;33m\u001b[0m\u001b[0m\n\u001b[1;32m----> 4\u001b[1;33m for justification in problem.solve(strategy = \"SAT\", depth = 0, heuristics = True, maximum = 5, \\\n\u001b[0m\u001b[0;32m      5\u001b[0m                                   derivedAxioms = {Symmetry(scenario), QuasiTiedWinner(scenario),\\\n\u001b[0;32m      6\u001b[0m                                                   QuasiTiedLoser(scenario)}):\n",
      "\u001b[1;32m~\\Documents\\GitHub\\comsoc\\COMSOC\\problems.py\u001b[0m in \u001b[0;36msolve\u001b[1;34m(self, strategy, depth, heuristics, maximum, derivedAxioms, ignore_nontriviality)\u001b[0m\n\u001b[0;32m    221\u001b[0m         \u001b[1;32mfor\u001b[0m \u001b[0minstances\u001b[0m \u001b[1;32min\u001b[0m \u001b[0mgraph\u001b[0m\u001b[1;33m.\u001b[0m\u001b[0mBFS\u001b[0m\u001b[1;33m(\u001b[0m\u001b[0mself\u001b[0m\u001b[1;33m.\u001b[0m\u001b[0mprofile\u001b[0m\u001b[1;33m,\u001b[0m \u001b[0mdepth\u001b[0m\u001b[1;33m)\u001b[0m\u001b[1;33m:\u001b[0m\u001b[1;33m\u001b[0m\u001b[1;33m\u001b[0m\u001b[0m\n\u001b[0;32m    222\u001b[0m             \u001b[1;31m# Try to extract a justification from these instances:\u001b[0m\u001b[1;33m\u001b[0m\u001b[1;33m\u001b[0m\u001b[0m\n\u001b[1;32m--> 223\u001b[1;33m             \u001b[1;32mfor\u001b[0m \u001b[0mjustification\u001b[0m \u001b[1;32min\u001b[0m \u001b[0mself\u001b[0m\u001b[1;33m.\u001b[0m\u001b[0m_extract\u001b[0m\u001b[1;33m(\u001b[0m\u001b[0minstances\u001b[0m\u001b[1;33m,\u001b[0m \u001b[0mstrategy\u001b[0m\u001b[1;33m,\u001b[0m \u001b[0mignore_nontriviality\u001b[0m\u001b[1;33m)\u001b[0m\u001b[1;33m:\u001b[0m\u001b[1;33m\u001b[0m\u001b[1;33m\u001b[0m\u001b[0m\n\u001b[0m\u001b[0;32m    224\u001b[0m                 \u001b[1;31m# if we find one, yield it\u001b[0m\u001b[1;33m\u001b[0m\u001b[1;33m\u001b[0m\u001b[0m\n\u001b[0;32m    225\u001b[0m                 \u001b[1;32myield\u001b[0m \u001b[0mjustification\u001b[0m\u001b[1;33m\u001b[0m\u001b[1;33m\u001b[0m\u001b[0m\n",
      "\u001b[1;32m~\\Documents\\GitHub\\comsoc\\COMSOC\\problems.py\u001b[0m in \u001b[0;36m_extract\u001b[1;34m(self, instances, strategy, ignore_nontriviality)\u001b[0m\n\u001b[0;32m    141\u001b[0m \u001b[1;33m\u001b[0m\u001b[0m\n\u001b[0;32m    142\u001b[0m             \u001b[1;31m# Enumerate all MUSes of these instances...\u001b[0m\u001b[1;33m\u001b[0m\u001b[1;33m\u001b[0m\u001b[0m\n\u001b[1;32m--> 143\u001b[1;33m             \u001b[1;32mfor\u001b[0m \u001b[0mMUS\u001b[0m \u001b[1;32min\u001b[0m \u001b[0msolver\u001b[0m\u001b[1;33m.\u001b[0m\u001b[0menumerateMUSes\u001b[0m\u001b[1;33m(\u001b[0m\u001b[0minstances\u001b[0m\u001b[1;33m)\u001b[0m\u001b[1;33m:\u001b[0m\u001b[1;33m\u001b[0m\u001b[1;33m\u001b[0m\u001b[0m\n\u001b[0m\u001b[0;32m    144\u001b[0m \u001b[1;33m\u001b[0m\u001b[0m\n\u001b[0;32m    145\u001b[0m                 \u001b[1;31m# An MUS is an explanation iff it contains the goal profile.\u001b[0m\u001b[1;33m\u001b[0m\u001b[1;33m\u001b[0m\u001b[0m\n",
      "\u001b[1;32m~\\Documents\\GitHub\\comsoc\\COMSOC\\reasoning.py\u001b[0m in \u001b[0;36menumerateMUSes\u001b[1;34m(self, instances, maximum)\u001b[0m\n\u001b[0;32m    218\u001b[0m         \u001b[1;32mfinally\u001b[0m\u001b[1;33m:\u001b[0m\u001b[1;33m\u001b[0m\u001b[1;33m\u001b[0m\u001b[0m\n\u001b[0;32m    219\u001b[0m             \u001b[1;31m# Kill the subprocess.\u001b[0m\u001b[1;33m\u001b[0m\u001b[1;33m\u001b[0m\u001b[0m\n\u001b[1;32m--> 220\u001b[1;33m             \u001b[0mos\u001b[0m\u001b[1;33m.\u001b[0m\u001b[0mkillpg\u001b[0m\u001b[1;33m(\u001b[0m\u001b[0mos\u001b[0m\u001b[1;33m.\u001b[0m\u001b[0mgetpgid\u001b[0m\u001b[1;33m(\u001b[0m\u001b[0mproc\u001b[0m\u001b[1;33m.\u001b[0m\u001b[0mpid\u001b[0m\u001b[1;33m)\u001b[0m\u001b[1;33m,\u001b[0m \u001b[0msignal\u001b[0m\u001b[1;33m.\u001b[0m\u001b[0mSIGTERM\u001b[0m\u001b[1;33m)\u001b[0m\u001b[1;33m\u001b[0m\u001b[1;33m\u001b[0m\u001b[0m\n\u001b[0m\u001b[0;32m    221\u001b[0m             \u001b[1;31m# Remove the created file.\u001b[0m\u001b[1;33m\u001b[0m\u001b[1;33m\u001b[0m\u001b[0m\n\u001b[0;32m    222\u001b[0m             \u001b[0mos\u001b[0m\u001b[1;33m.\u001b[0m\u001b[0mremove\u001b[0m\u001b[1;33m(\u001b[0m\u001b[0mself\u001b[0m\u001b[1;33m.\u001b[0m\u001b[0mFILE_NAME\u001b[0m\u001b[1;33m)\u001b[0m\u001b[1;33m\u001b[0m\u001b[1;33m\u001b[0m\u001b[0m\n",
      "\u001b[1;31mAttributeError\u001b[0m: module 'os' has no attribute 'killpg'"
     ]
    }
   ],
   "source": [
    "from COMSOC.just import Symmetry, QuasiTiedWinner, QuasiTiedLoser\n",
    "\n",
    "shortest = None\n",
    "for justification in problem.solve(strategy = \"SAT\", depth = 0, heuristics = True, maximum = 5, \\\n",
    "                                  derivedAxioms = {Symmetry(scenario), QuasiTiedWinner(scenario),\\\n",
    "                                                  QuasiTiedLoser(scenario)}):\n",
    "    \n",
    "    if shortest is None or len(justification) < len(shortest):\n",
    "        shortest = justification\n",
    "        \n",
    "print(shortest)"
   ]
  },
  {
   "cell_type": "code",
   "execution_count": null,
   "id": "7c5ae193",
   "metadata": {},
   "outputs": [],
   "source": []
  }
 ],
 "metadata": {
  "kernelspec": {
   "display_name": "Python 3 (ipykernel)",
   "language": "python",
   "name": "python3"
  },
  "language_info": {
   "codemirror_mode": {
    "name": "ipython",
    "version": 3
   },
   "file_extension": ".py",
   "mimetype": "text/x-python",
   "name": "python",
   "nbconvert_exporter": "python",
   "pygments_lexer": "ipython3",
   "version": "3.9.7"
  }
 },
 "nbformat": 4,
 "nbformat_minor": 5
}
